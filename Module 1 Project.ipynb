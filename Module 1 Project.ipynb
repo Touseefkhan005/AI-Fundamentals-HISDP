{
 "cells": [
  {
   "cell_type": "markdown",
   "id": "3e1befd4",
   "metadata": {},
   "source": [
    "# AI Fundamental Module 1"
   ]
  },
  {
   "cell_type": "code",
   "execution_count": 1,
   "id": "d3974b0a",
   "metadata": {},
   "outputs": [
    {
     "name": "stdout",
     "output_type": "stream",
     "text": [
      "Point [1 2] in array1 is closest to point [2 1] in array2.\n",
      "Point [3 4] in array1 is closest to point [3 3] in array2.\n",
      "Point [5 6] in array1 is closest to point [7 8] in array2.\n"
     ]
    }
   ],
   "source": [
    "import numpy as np\n",
    "\n",
    "def calculate_distance(point1, point2, p):\n",
    "    if p == 1:\n",
    "        return np.sum(np.abs(point1 - point2))\n",
    "    elif p == 2:\n",
    "        return np.sqrt(np.sum((point1 - point2) ** 2))\n",
    "    elif p == np.inf:\n",
    "        return np.max(np.abs(point1 - point2))\n",
    "    else:\n",
    "        raise ValueError(\"Unsupported norm. Choose 1, 2, or ∞.\")\n",
    "\n",
    "def find_nearest_neighbors(array1, array2, p):\n",
    "    \n",
    "    nearest_neighbors = []\n",
    "    \n",
    "    for point1 in array1:\n",
    "        \n",
    "        distances = [calculate_distance(point1, point2, p) for point2 in array2]\n",
    "    \n",
    "        nearest_index = np.argmin(distances)\n",
    "        \n",
    "        nearest_neighbors.append((point1, array2[nearest_index]))\n",
    "    \n",
    "    return nearest_neighbors\n",
    "\n",
    "array1 = np.array([[1, 2], [3, 4], [5, 6]])\n",
    "array2 = np.array([[7, 8], [2, 1], [3, 3]])\n",
    "\n",
    "p = 2 \n",
    "\n",
    "nearest_pairs = find_nearest_neighbors(array1, array2, p)\n",
    "for pair in nearest_pairs:\n",
    "     print(f\"Point {pair[0]} in array1 is closest to point {pair[1]} in array2.\")"
   ]
  },
  {
   "cell_type": "code",
   "execution_count": null,
   "id": "5744769a",
   "metadata": {},
   "outputs": [],
   "source": []
  }
 ],
 "metadata": {
  "kernelspec": {
   "display_name": "Python 3 (ipykernel)",
   "language": "python",
   "name": "python3"
  },
  "language_info": {
   "codemirror_mode": {
    "name": "ipython",
    "version": 3
   },
   "file_extension": ".py",
   "mimetype": "text/x-python",
   "name": "python",
   "nbconvert_exporter": "python",
   "pygments_lexer": "ipython3",
   "version": "3.11.5"
  }
 },
 "nbformat": 4,
 "nbformat_minor": 5
}
